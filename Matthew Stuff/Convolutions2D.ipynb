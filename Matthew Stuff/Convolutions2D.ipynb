{
 "cells": [
  {
   "cell_type": "markdown",
   "metadata": {},
   "source": [
    "# Convolutions"
   ]
  },
  {
   "cell_type": "markdown",
   "metadata": {},
   "source": [
    "Functions designed to implement 2D convolutions that have symmetric input."
   ]
  },
  {
   "cell_type": "code",
   "execution_count": 209,
   "metadata": {},
   "outputs": [],
   "source": [
    "import numpy as np\n",
    "import cv2\n",
    "from queue import SimpleQueue"
   ]
  },
  {
   "cell_type": "code",
   "execution_count": 2,
   "metadata": {},
   "outputs": [],
   "source": [
    "import pdb"
   ]
  },
  {
   "cell_type": "code",
   "execution_count": 3,
   "metadata": {},
   "outputs": [],
   "source": [
    "from Export.nb_PixelManipulation import *"
   ]
  },
  {
   "cell_type": "markdown",
   "metadata": {},
   "source": [
    "## Create Convolutions"
   ]
  },
  {
   "cell_type": "code",
   "execution_count": 4,
   "metadata": {},
   "outputs": [],
   "source": [
    "def choice(m : int, n : int):\n",
    "    if m == 1: return 1\n",
    "    if n == 0: return 1\n",
    "    if n == m: return 1\n",
    "    if n == 1: return m\n",
    "    return choice(m - 1, n) + choice(m - 1, n - 1)\n",
    "\n",
    "def gaussian(conv_len : int):\n",
    "    output = np.ndarray(conv_len, dtype = np.float32)\n",
    "    output[0] = 1\n",
    "    m = conv_len\n",
    "    n = 0\n",
    "    for i in range(1, (conv_len + 1) // 2):\n",
    "        n += 1; m -= 1\n",
    "        output[i] = output[i - 1] * m / n\n",
    "    for i in range(conv_len // 2):\n",
    "        output[-i - 1] = output[i]\n",
    "    return output\n",
    "\n",
    "def averageBlur(conv_len : int):\n",
    "    output = np.ndarray(conv_len, dtype = np.float32)\n",
    "    output.fill(1)\n",
    "    return output\n",
    "\n",
    "def derivative(conv_len : int):\n",
    "    output = np.ndarray(conv_len, dtype = np.float32)\n",
    "    i = 0\n",
    "    mid_point = conv_len // 2\n",
    "    neg = True\n",
    "    for x in np.nditer(output, op_flags = ['writeonly']):\n",
    "        if i == mid_point: x[...] = 0.; neg = False; i += 1; continue\n",
    "        x[...] = -1. if neg else 1.\n",
    "        i += 1\n",
    "    return output\n",
    "        "
   ]
  },
  {
   "cell_type": "code",
   "execution_count": 5,
   "metadata": {},
   "outputs": [
    {
     "data": {
      "text/plain": [
       "array([ 1.,  6., 15., 20., 15.,  6.,  1.], dtype=float32)"
      ]
     },
     "execution_count": 5,
     "metadata": {},
     "output_type": "execute_result"
    }
   ],
   "source": [
    "gaussian(7)"
   ]
  },
  {
   "cell_type": "code",
   "execution_count": 6,
   "metadata": {},
   "outputs": [
    {
     "data": {
      "text/plain": [
       "[1, 6, 15, 20, 15, 6, 1]"
      ]
     },
     "execution_count": 6,
     "metadata": {},
     "output_type": "execute_result"
    }
   ],
   "source": [
    "[choice(6,0), choice(6,1), choice(6,2), choice(6,3), choice(6,4), choice(6,5), choice(6,6)]"
   ]
  },
  {
   "cell_type": "code",
   "execution_count": 7,
   "metadata": {},
   "outputs": [
    {
     "data": {
      "text/plain": [
       "array([1., 1., 1., 1., 1.], dtype=float32)"
      ]
     },
     "execution_count": 7,
     "metadata": {},
     "output_type": "execute_result"
    }
   ],
   "source": [
    "averageBlur(5)"
   ]
  },
  {
   "cell_type": "code",
   "execution_count": 8,
   "metadata": {},
   "outputs": [
    {
     "data": {
      "text/plain": [
       "array([-1., -1.,  0.,  1.,  1.], dtype=float32)"
      ]
     },
     "execution_count": 8,
     "metadata": {},
     "output_type": "execute_result"
    }
   ],
   "source": [
    "derivative(5)"
   ]
  },
  {
   "cell_type": "markdown",
   "metadata": {},
   "source": [
    "## Request Convolutions"
   ]
  },
  {
   "cell_type": "code",
   "execution_count": 9,
   "metadata": {},
   "outputs": [],
   "source": [
    "def gaussianConv(n1 : int, n2 : int):\n",
    "    if n1 % 2 != 1: print('Convolution size must be odd!', n1); return\n",
    "    if n2 % 2 != 1: print('Convolution size must be odd!', n2); return\n",
    "    conv1 = gaussian(n1); conv1 /= np.sum(conv1)\n",
    "    conv2 = gaussian(n2); conv2 /= np.sum(conv2)\n",
    "    return conv1, conv2"
   ]
  },
  {
   "cell_type": "code",
   "execution_count": 10,
   "metadata": {},
   "outputs": [
    {
     "data": {
      "text/plain": [
       "(array([0.25, 0.5 , 0.25], dtype=float32),\n",
       " array([0.0625, 0.25  , 0.375 , 0.25  , 0.0625], dtype=float32))"
      ]
     },
     "execution_count": 10,
     "metadata": {},
     "output_type": "execute_result"
    }
   ],
   "source": [
    "gaussianConv(3, 5)"
   ]
  },
  {
   "cell_type": "code",
   "execution_count": 11,
   "metadata": {},
   "outputs": [],
   "source": [
    "def derivativeConv(n1 : int, n2 : int):\n",
    "    if n1 % 2 != 1: print('Convolution size must be odd!', n1); return\n",
    "    if n2 % 2 != 1: print('Convolution size must be odd!', n2); return\n",
    "    conv1 = gaussian(n1)\n",
    "    conv2 = derivative(n2)\n",
    "    return conv1, conv2"
   ]
  },
  {
   "cell_type": "code",
   "execution_count": 12,
   "metadata": {},
   "outputs": [
    {
     "data": {
      "text/plain": [
       "(array([1., 2., 1.], dtype=float32),\n",
       " array([-1., -1.,  0.,  1.,  1.], dtype=float32))"
      ]
     },
     "execution_count": 12,
     "metadata": {},
     "output_type": "execute_result"
    }
   ],
   "source": [
    "derivativeConv(3, 5)"
   ]
  },
  {
   "cell_type": "code",
   "execution_count": 13,
   "metadata": {},
   "outputs": [],
   "source": [
    "def averageConv(n1 : int, n2 : int):\n",
    "    if n1 % 2 != 1: print('Convolution size must be odd!', n1); return\n",
    "    if n2 % 2 != 1: print('Convolution size must be odd!', n2); return\n",
    "    conv1 = averageBlur(n1) / n1\n",
    "    conv2 = averageBlur(n2) / n2\n",
    "    return conv1, conv2"
   ]
  },
  {
   "cell_type": "code",
   "execution_count": 14,
   "metadata": {},
   "outputs": [
    {
     "data": {
      "text/plain": [
       "(array([0.33333334, 0.33333334, 0.33333334], dtype=float32),\n",
       " array([0.2, 0.2, 0.2, 0.2, 0.2], dtype=float32))"
      ]
     },
     "execution_count": 14,
     "metadata": {},
     "output_type": "execute_result"
    }
   ],
   "source": [
    "averageConv(3, 5)"
   ]
  },
  {
   "cell_type": "markdown",
   "metadata": {},
   "source": [
    "## Difference between Fortran and C array iteration"
   ]
  },
  {
   "cell_type": "markdown",
   "metadata": {},
   "source": [
    "While the array might be stored in a contiguous block in the C style in the underlying numpy implementation. There is also a Fortran style that goes throught the image through columns first then rows and then channels."
   ]
  },
  {
   "cell_type": "code",
   "execution_count": 29,
   "metadata": {},
   "outputs": [
    {
     "data": {
      "text/plain": [
       "array([[[ 0,  1,  2],\n",
       "        [ 3,  4,  5]],\n",
       "\n",
       "       [[ 6,  7,  8],\n",
       "        [ 9, 10, 11]]])"
      ]
     },
     "execution_count": 29,
     "metadata": {},
     "output_type": "execute_result"
    }
   ],
   "source": [
    "stub_image = np.arange(12).reshape(2,2,3); stub_image"
   ]
  },
  {
   "cell_type": "code",
   "execution_count": 30,
   "metadata": {},
   "outputs": [],
   "source": [
    "i, j, k = 0, 0, 0\n",
    "for x in np.nditer(stub_image, order = 'C', op_flags = ['readonly']):\n",
    "    assert(stub_image[i, j, k] == x)\n",
    "    i, j, k = iterateImage(i, j, k, 3, 2)"
   ]
  },
  {
   "cell_type": "code",
   "execution_count": 58,
   "metadata": {},
   "outputs": [
    {
     "name": "stdout",
     "output_type": "stream",
     "text": [
      "<class 'numpy.ndarray'>\n",
      "<class 'numpy.ndarray'>\n",
      "<class 'numpy.ndarray'>\n",
      "<class 'numpy.ndarray'>\n",
      "<class 'numpy.ndarray'>\n",
      "<class 'numpy.ndarray'>\n",
      "<class 'numpy.ndarray'>\n",
      "<class 'numpy.ndarray'>\n",
      "<class 'numpy.ndarray'>\n",
      "<class 'numpy.ndarray'>\n",
      "<class 'numpy.ndarray'>\n",
      "<class 'numpy.ndarray'>\n"
     ]
    }
   ],
   "source": [
    "i, j, k = 0, 0, 0\n",
    "for x in np.nditer(stub_image, order = 'F', op_flags = ['readonly']):\n",
    "    assert(stub_image[i, j, k] == x)\n",
    "    i, j, k = iterateImageFortran(i, j, k, 2, 2)"
   ]
  },
  {
   "cell_type": "markdown",
   "metadata": {},
   "source": [
    "## Queue Functions"
   ]
  },
  {
   "cell_type": "code",
   "execution_count": 193,
   "metadata": {},
   "outputs": [],
   "source": [
    "class fixedSizeQueue:\n",
    "    def __init__(self, n_elements, **kwargs):\n",
    "        self.data = np.ndarray(n_elements, **kwargs)\n",
    "    \n",
    "    def __len__(self):\n",
    "        return len(self.data)\n",
    "        \n",
    "    def update(self, value):\n",
    "        started = True\n",
    "        for x in np.nditer(self.data, op_flags = ['readwrite']):\n",
    "            if started: started = False; prev_x = x; continue\n",
    "            prev_x[...] = x\n",
    "            prev_x = x\n",
    "        x[...] = value\n",
    "        \n",
    "    def setValue(self, ind, value):\n",
    "        self.data[ind] = value\n",
    "        \n",
    "    def convolve(self, conv_arr):\n",
    "        return np.dot(self.data, conv_arr)"
   ]
  },
  {
   "cell_type": "markdown",
   "metadata": {},
   "source": [
    "The fixed size queue keeps track of the pixel values to be convolved and stores them by value."
   ]
  },
  {
   "cell_type": "code",
   "execution_count": 236,
   "metadata": {},
   "outputs": [],
   "source": [
    "que = fixedSizeQueue(2, dtype = np.float32)"
   ]
  },
  {
   "cell_type": "code",
   "execution_count": 237,
   "metadata": {},
   "outputs": [],
   "source": [
    "que.data.fill(0)"
   ]
  },
  {
   "cell_type": "code",
   "execution_count": 238,
   "metadata": {},
   "outputs": [
    {
     "data": {
      "text/plain": [
       "array([0., 0.], dtype=float32)"
      ]
     },
     "execution_count": 238,
     "metadata": {},
     "output_type": "execute_result"
    }
   ],
   "source": [
    "que.data"
   ]
  },
  {
   "cell_type": "code",
   "execution_count": 239,
   "metadata": {},
   "outputs": [],
   "source": [
    "que.update(1)"
   ]
  },
  {
   "cell_type": "code",
   "execution_count": 240,
   "metadata": {},
   "outputs": [
    {
     "data": {
      "text/plain": [
       "array([0., 1.], dtype=float32)"
      ]
     },
     "execution_count": 240,
     "metadata": {},
     "output_type": "execute_result"
    }
   ],
   "source": [
    "que.data"
   ]
  },
  {
   "cell_type": "code",
   "execution_count": 241,
   "metadata": {},
   "outputs": [],
   "source": [
    "que.update(2)"
   ]
  },
  {
   "cell_type": "code",
   "execution_count": 242,
   "metadata": {},
   "outputs": [
    {
     "data": {
      "text/plain": [
       "array([1., 2.], dtype=float32)"
      ]
     },
     "execution_count": 242,
     "metadata": {},
     "output_type": "execute_result"
    }
   ],
   "source": [
    "que.data"
   ]
  },
  {
   "cell_type": "code",
   "execution_count": 243,
   "metadata": {},
   "outputs": [],
   "source": [
    "que.update(3)"
   ]
  },
  {
   "cell_type": "code",
   "execution_count": 244,
   "metadata": {},
   "outputs": [
    {
     "data": {
      "text/plain": [
       "array([2., 3.], dtype=float32)"
      ]
     },
     "execution_count": 244,
     "metadata": {},
     "output_type": "execute_result"
    }
   ],
   "source": [
    "que.data"
   ]
  },
  {
   "cell_type": "code",
   "execution_count": 245,
   "metadata": {},
   "outputs": [],
   "source": [
    "del que"
   ]
  },
  {
   "cell_type": "markdown",
   "metadata": {},
   "source": [
    "The inbuilt Queue function in Python (which relates to a C style implementation) can take objects by reference and then the last object to put in the queue can be extracted and modified."
   ]
  },
  {
   "cell_type": "code",
   "execution_count": 265,
   "metadata": {},
   "outputs": [],
   "source": [
    "arr1, arr2 = np.ndarray(1), np.ndarray(2)\n",
    "arr1.fill(1); arr2.fill(2)"
   ]
  },
  {
   "cell_type": "code",
   "execution_count": 266,
   "metadata": {},
   "outputs": [],
   "source": [
    "que = SimpleQueue()"
   ]
  },
  {
   "cell_type": "code",
   "execution_count": 267,
   "metadata": {},
   "outputs": [],
   "source": [
    "que.put(arr1); que.put(arr2)"
   ]
  },
  {
   "cell_type": "code",
   "execution_count": 268,
   "metadata": {},
   "outputs": [],
   "source": [
    "arr = que.get()"
   ]
  },
  {
   "cell_type": "code",
   "execution_count": 269,
   "metadata": {},
   "outputs": [],
   "source": [
    "arr[...] = 3"
   ]
  },
  {
   "cell_type": "code",
   "execution_count": 270,
   "metadata": {},
   "outputs": [
    {
     "data": {
      "text/plain": [
       "1"
      ]
     },
     "execution_count": 270,
     "metadata": {},
     "output_type": "execute_result"
    }
   ],
   "source": [
    "que.qsize()"
   ]
  },
  {
   "cell_type": "code",
   "execution_count": 271,
   "metadata": {},
   "outputs": [
    {
     "data": {
      "text/plain": [
       "array([3.])"
      ]
     },
     "execution_count": 271,
     "metadata": {},
     "output_type": "execute_result"
    }
   ],
   "source": [
    "arr1"
   ]
  },
  {
   "cell_type": "markdown",
   "metadata": {},
   "source": [
    "## Queue Functions"
   ]
  },
  {
   "cell_type": "code",
   "execution_count": null,
   "metadata": {},
   "outputs": [],
   "source": [
    "def horizontalConvolution(img, target_img, conv_arr):\n",
    "    pass"
   ]
  },
  {
   "cell_type": "markdown",
   "metadata": {},
   "source": [
    "## High level convolution functions"
   ]
  },
  {
   "cell_type": "code",
   "execution_count": 57,
   "metadata": {},
   "outputs": [],
   "source": [
    "def applyConvolutions(conv1 : np.array, conv2 : np.array, in_order : bool):\n",
    "    pass\n",
    "\n",
    "def applyGaussian(img : np.array, conv_wid : int, conv_hei : int):\n",
    "    pass"
   ]
  }
 ],
 "metadata": {
  "kernelspec": {
   "display_name": "Python 3",
   "language": "python",
   "name": "python3"
  },
  "language_info": {
   "codemirror_mode": {
    "name": "ipython",
    "version": 3
   },
   "file_extension": ".py",
   "mimetype": "text/x-python",
   "name": "python",
   "nbconvert_exporter": "python",
   "pygments_lexer": "ipython3",
   "version": "3.7.3"
  }
 },
 "nbformat": 4,
 "nbformat_minor": 2
}
