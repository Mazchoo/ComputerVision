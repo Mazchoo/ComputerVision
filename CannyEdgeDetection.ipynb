{
 "cells": [
  {
   "cell_type": "markdown",
   "metadata": {},
   "source": [
    "# Canny Edge Detection"
   ]
  },
  {
   "cell_type": "code",
   "execution_count": 1,
   "metadata": {},
   "outputs": [],
   "source": [
    "# export\n",
    "import numpy as np"
   ]
  },
  {
   "cell_type": "code",
   "execution_count": 2,
   "metadata": {},
   "outputs": [],
   "source": [
    "import cv2\n",
    "import pdb"
   ]
  },
  {
   "cell_type": "code",
   "execution_count": 3,
   "metadata": {},
   "outputs": [],
   "source": [
    "# export\n",
    "from Export.nb_Convolutions1D import *\n",
    "from Export.nb_PixelManipulation import *"
   ]
  },
  {
   "cell_type": "markdown",
   "metadata": {},
   "source": [
    "## Sobel Edge Detection"
   ]
  },
  {
   "cell_type": "code",
   "execution_count": 4,
   "metadata": {
    "code_folding": []
   },
   "outputs": [],
   "source": [
    "# export\n",
    "def horizontalSobel(img : np.array, blur_conv : np.array, edge_conv : np.array):\n",
    "    img = oneDimConvolution(img, blur_conv, False, 255)\n",
    "    return oneDimConvolution(img, edge_conv, True, 255)\n",
    "                             \n",
    "def verticalSobel(img : np.array, blur_conv : np.array, edge_conv : np.array):\n",
    "    img = oneDimConvolution(img, blur_conv, True, 255)\n",
    "    return oneDimConvolution(img, edge_conv, False, 255)"
   ]
  },
  {
   "cell_type": "markdown",
   "metadata": {},
   "source": [
    "## Checking the magnitude of two images within thresholds"
   ]
  },
  {
   "cell_type": "code",
   "execution_count": 5,
   "metadata": {},
   "outputs": [],
   "source": [
    "def thresholdImageValues(img : np.array, lower_thresh : int, upper_thresh : int):\n",
    "    for px in np.nditer(img, order = 'C', op_flags = ['readwrite']):\n",
    "        px[...] = 255 if (px < upper_thresh and px > lower_thresh) else 0\n",
    "    return np.uint8(img)\n",
    "        \n",
    "def thresholdEdgeMagnitude(hori_img : np.array, vert_img : np.array, lower_thresh : int, upper_thresh : int):\n",
    "    hori_img **= 2; vert_img **= 2\n",
    "    hori_img += vert_img\n",
    "    lower_thresh_sq = lower_thresh**2; upper_thresh_sq = upper_thresh**2\n",
    "    return thresholdImageValues(hori_img, lower_thresh_sq, upper_thresh_sq)"
   ]
  },
  {
   "cell_type": "markdown",
   "metadata": {},
   "source": [
    "## Canny Edge Detection"
   ]
  },
  {
   "cell_type": "code",
   "execution_count": 6,
   "metadata": {},
   "outputs": [],
   "source": [
    "def cannyEdgeDetection(img : np.array, lower_thresh : int, upper_thresh : int, blur_size : int, edge_size : int):\n",
    "    if lower_thresh > upper_thresh: print('Lower thresh is higher than upper thresh!'); return\n",
    "    deriv_conv1, deriv_conv2 = derivativeConv(edge_size, edge_size)\n",
    "    blur_conv = gaussian(blur_size); blur_conv /= np.sum(blur_conv)\n",
    "    edge_conv = derivative(edge_size)\n",
    "    hori_img = img.copy()\n",
    "    hori_img = horizontalSobel(hori_img, blur_conv, edge_conv)\n",
    "    vert_img = verticalSobel(img, blur_conv, edge_conv)\n",
    "    return thresholdEdgeMagnitude(hori_img, vert_img, lower_thresh, upper_thresh)"
   ]
  },
  {
   "cell_type": "code",
   "execution_count": 7,
   "metadata": {},
   "outputs": [],
   "source": [
    "frog_img = cv2.imread('Images/dat_boi.jpg')"
   ]
  },
  {
   "cell_type": "code",
   "execution_count": 8,
   "metadata": {},
   "outputs": [],
   "source": [
    "canny_img = cannyEdgeDetection(frog_img, 200, 300, 3, 3)"
   ]
  },
  {
   "cell_type": "markdown",
   "metadata": {},
   "source": [
    "## Testing it out"
   ]
  },
  {
   "cell_type": "markdown",
   "metadata": {},
   "source": [
    "The frog image only has blue transition of edges on the tricyle but on the rest of the frog there is a transition from black to white which is show across all colour channels."
   ]
  },
  {
   "cell_type": "code",
   "execution_count": 9,
   "metadata": {},
   "outputs": [
    {
     "data": {
      "image/png": "[encoded data removed]",
      "text/plain": [
       "<Figure size 504x504 with 1 Axes>"
      ]
     },
     "metadata": {
      "needs_background": "light"
     },
     "output_type": "display_data"
    }
   ],
   "source": [
    "plt.figure(figsize=(7,7))\n",
    "plt.imshow(canny_img);"
   ]
  },
  {
   "cell_type": "markdown",
   "metadata": {},
   "source": [
    "## Export"
   ]
  },
  {
   "cell_type": "code",
   "execution_count": 10,
   "metadata": {},
   "outputs": [
    {
     "name": "stdout",
     "output_type": "stream",
     "text": [
      "Converted CannyEdgeDetection.ipynb to Export\\nb_CannyEdgeDetection.py\n"
     ]
    }
   ],
   "source": [
    "!python notebook2script.py CannyEdgeDetection.ipynb"
   ]
  }
 ],
 "metadata": {
  "kernelspec": {
   "display_name": "Python 3",
   "language": "python",
   "name": "python3"
  },
  "language_info": {
   "codemirror_mode": {
    "name": "ipython",
    "version": 3
   },
   "file_extension": ".py",
   "mimetype": "text/x-python",
   "name": "python",
   "nbconvert_exporter": "python",
   "pygments_lexer": "ipython3",
   "version": "3.7.3"
  }
 },
 "nbformat": 4,
 "nbformat_minor": 2
}
